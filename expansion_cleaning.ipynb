{
 "cells": [
  {
   "cell_type": "code",
   "execution_count": 2,
   "id": "9e7b7cd1",
   "metadata": {},
   "outputs": [],
   "source": [
    "import pandas as pd \n",
    "import numpy as np \n",
    "import matplotlib.pyplot as plt\n",
    "import seaborn as sns "
   ]
  },
  {
   "cell_type": "code",
   "execution_count": 3,
   "id": "e9ffbeec",
   "metadata": {},
   "outputs": [],
   "source": [
    "billing = pd.read_csv(\"billing.csv\") \n",
    "events = pd.read_csv(\"events.csv\")\n",
    "sessions = pd.read_csv(\"sessions.csv\")\n",
    "users = pd.read_csv('users.csv')\n",
    "final_expansion_group = pd.read_csv('final_expansion_group.csv')\n",
    "final_control_group = pd.read_csv('final_control_group.csv')"
   ]
  },
  {
   "cell_type": "markdown",
   "id": "c565250f",
   "metadata": {},
   "source": [
    "Revised Feature Engineering Plan: From Broad to Hyper-Specific\n",
    "\n",
    "Your goal is still to create the final_analysis_df. The features from sessions.csv and billing.csv remain the same. But for events.csv, we will create a much more powerful and targeted set of columns.\n",
    "\n",
    "For each user, within their specific analysis window, we will now calculate:\n",
    "1. Individual Feature Adoption (The \"Did they even touch it?\" metrics)\n",
    "\n",
    "This is the most crucial part. For each of the seven features, we will create a binary flag (1 if used, 0 if not). This will be the most powerful predictor in your model.\n",
    "\n",
    "    used_jira_board: 1 or 0\n",
    "\n",
    "    used_jira_automation: 1 or 0\n",
    "\n",
    "    used_team_invite: 1 or 0\n",
    "\n",
    "    used_bitbucket_integration: 1 or 0\n",
    "\n",
    "    used_confluence_page: 1 or 0\n",
    "\n",
    "    used_confluence_ai_assist: 1 or 0\n",
    "\n",
    "    used_trello_export_csv: 1 or 0\n",
    "\n",
    "2. Feature Usage Intensity (The \"How much did they use it?\" metrics)\n",
    "\n",
    "For users who adopted a feature, how deeply did they engage?\n",
    "\n",
    "    jira_board_event_count: The total count of events for this feature.\n",
    "\n",
    "    team_invite_event_count: The count of team_invite events. This is a critical metric. A user who invites 1 person is different from one who invites 10.\n",
    "\n",
    "    confluence_page_event_count: Total events.\n",
    "\n",
    "    ...and so on for the other features.\n",
    "\n",
    "3. Composite & Strategic Features (The \"What combinations matter?\" metrics)\n",
    "\n",
    "This is where you can generate powerful, top-tier insights. The magic is often in the combination of features used.\n",
    "\n",
    "    feature_adoption_count: The sum of the binary flags from section 1. This is our new, much simpler \"feature diversity\" score (it will be a number from 0 to 7).\n",
    "\n",
    "    used_core_jira_suite: A binary flag that is 1 if (used_jira_board == 1 AND used_jira_automation == 1), else 0. This shows a commitment to the Jira ecosystem.\n",
    "\n",
    "    used_core_confluence_suite: A binary flag that is 1 if (used_confluence_page == 1 AND used_confluence_ai_assist == 1), else 0.\n",
    "\n",
    "    used_any_integration: A binary flag that is 1 if (used_bitbucket_integration == 1 OR used_trello_export_csv == 1), else 0. This signals the product is becoming embedded in their workflow.\n",
    "\n",
    "Your Next Steps, Clarified\n",
    "\n",
    "Your workflow remains the same, but the core task within the loop becomes much more specific.\n",
    "\n",
    "    Loop through each user in your Expansion and Control groups.\n",
    "\n",
    "    Filter the events table for that user and their specific analysis window.\n",
    "\n",
    "    Calculate the ~15 new features listed above (7 binary flags, ~5 counts, 3 composite flags).\n",
    "\n",
    "    Store these features in your final_analysis_df.\n",
    "\n",
    "Our Hypotheses Are Now Razor-Sharp\n",
    "\n",
    "Now, we can state our hypotheses with extreme clarity:\n",
    "\n",
    "    Hypothesis (Team Invite): \"Users in the Expansion Group have a significantly higher rate of using the team_invite feature in their pre-expansion window compared to the Control Group.\"\n",
    "\n",
    "    Hypothesis (Automation Lever): \"Adoption of 'power features' like jira_automation or confluence_ai_assist is a strong leading indicator of future expansion.\"\n",
    "\n",
    "    Hypothesis (Ecosystem Stickiness): \"Users who integrate the product with other tools (Bitbucket, Trello) are more likely to expand their seat count because the product has become a central hub for their work.\"\n",
    "\n",
    "You are now in an excellent position. This level of feature specificity is what separates a generic report from a data-driven strategy document that can change how a business operates. Proceed with creating this feature set. The next phase of visualization and comparison will be incredibly insightful."
   ]
  },
  {
   "cell_type": "code",
   "execution_count": 34,
   "id": "ce694c03",
   "metadata": {},
   "outputs": [],
   "source": [
    "#5e9df73e-052e-402d-abdf-940f20f4d440\n",
    "# billing[billing['user_id'] == '5e9df73e-052e-402d-abdf-940f20f4d440']\n",
    "# 1. Sort by user_id and month\n",
    "billing = billing.sort_values([\"user_id\", \"month\"])\n",
    "# 2. High-Water Mark: cumulative max per user\n",
    "billing[\"max_seats_to_date\"] = billing.groupby(\"user_id\")[\"active_seats\"].cummax()\n",
    "# 3. Previous High-Water Mark: shift within each user’s history\n",
    "billing[\"prev_max_seats_to_date\"] = billing.groupby(\"user_id\")[\"max_seats_to_date\"].shift()\n",
    "# 4. True Expansion Month condition\n",
    "billing[\"true_expansion_month\"] = billing[\"active_seats\"] > billing[\"prev_max_seats_to_date\"]\n",
    "\n",
    "\n",
    "expansion_events = billing[(billing['user_id'].isin(final_expansion_group['user_id'])) & (billing['true_expansion_month'] == True)]\n",
    "\n",
    "first_expansion_dates = (\n",
    "    expansion_events\n",
    "    .groupby(\"user_id\", as_index=False)\n",
    "    .agg(first_expansion_month=(\"month\", \"min\"))\n",
    ")\n",
    "\n",
    "# 3. Define pre-expansion window\n",
    "# If 'month' is stored as a string like 'YYYY-MM', convert to datetime (first day of month)\n",
    "first_expansion_dates[\"first_expansion_month\"] = pd.to_datetime(first_expansion_dates[\"first_expansion_month\"])\n",
    "\n",
    "# The pre-expansion window is simply the prior calendar month\n",
    "first_expansion_dates[\"pre_expansion_start\"] = (first_expansion_dates[\"first_expansion_month\"] - pd.offsets.MonthBegin(1))\n",
    "first_expansion_dates[\"pre_expansion_end\"]   = (first_expansion_dates[\"first_expansion_month\"] - pd.offsets.MonthEnd(1))\n"
   ]
  },
  {
   "cell_type": "code",
   "execution_count": 35,
   "id": "46d16a66",
   "metadata": {},
   "outputs": [
    {
     "data": {
      "application/vnd.microsoft.datawrangler.viewer.v0+json": {
       "columns": [
        {
         "name": "index",
         "rawType": "int64",
         "type": "integer"
        },
        {
         "name": "user_id",
         "rawType": "object",
         "type": "string"
        },
        {
         "name": "first_expansion_month",
         "rawType": "datetime64[ns]",
         "type": "datetime"
        },
        {
         "name": "pre_expansion_start",
         "rawType": "datetime64[ns]",
         "type": "datetime"
        },
        {
         "name": "pre_expansion_end",
         "rawType": "datetime64[ns]",
         "type": "datetime"
        }
       ],
       "ref": "fcb94683-13f8-406e-9a49-11b0acca139b",
       "rows": [
        [
         "0",
         "000f0003-fbcc-4375-a9d6-1d8c63dbdf05",
         "2024-10-01 00:00:00",
         "2024-09-01 00:00:00",
         "2024-09-30 00:00:00"
        ],
        [
         "1",
         "001152fb-e29a-4cf5-878c-901af2268ad0",
         "2025-04-01 00:00:00",
         "2025-03-01 00:00:00",
         "2025-03-31 00:00:00"
        ],
        [
         "2",
         "001281b3-e61d-45e0-8551-68da908a2edf",
         "2024-05-01 00:00:00",
         "2024-04-01 00:00:00",
         "2024-04-30 00:00:00"
        ],
        [
         "3",
         "0012a970-074a-4701-b157-207958ab299c",
         "2025-04-01 00:00:00",
         "2025-03-01 00:00:00",
         "2025-03-31 00:00:00"
        ],
        [
         "4",
         "001a825f-72d1-4b7f-a2f5-f14cb5bc0714",
         "2024-12-01 00:00:00",
         "2024-11-01 00:00:00",
         "2024-11-30 00:00:00"
        ],
        [
         "5",
         "001c3990-b5c5-4f7f-848e-7d360e7e5593",
         "2025-04-01 00:00:00",
         "2025-03-01 00:00:00",
         "2025-03-31 00:00:00"
        ],
        [
         "6",
         "0022084d-23d5-4fa3-842d-4cfa523948ac",
         "2024-06-01 00:00:00",
         "2024-05-01 00:00:00",
         "2024-05-31 00:00:00"
        ],
        [
         "7",
         "00268264-331e-484e-bd5b-c10e57788281",
         "2025-07-01 00:00:00",
         "2025-06-01 00:00:00",
         "2025-06-30 00:00:00"
        ],
        [
         "8",
         "002cd6f1-0af6-4a2d-a956-38f3e9ed3430",
         "2025-07-01 00:00:00",
         "2025-06-01 00:00:00",
         "2025-06-30 00:00:00"
        ],
        [
         "9",
         "002ede4e-7ec4-48f7-b2c5-1b7761393ade",
         "2025-07-01 00:00:00",
         "2025-06-01 00:00:00",
         "2025-06-30 00:00:00"
        ],
        [
         "10",
         "0037da51-88f4-435c-a133-5b40f7ccbfec",
         "2025-06-01 00:00:00",
         "2025-05-01 00:00:00",
         "2025-05-31 00:00:00"
        ],
        [
         "11",
         "0048bd46-c9f8-4cf9-bfb9-1f30ea956426",
         "2025-01-01 00:00:00",
         "2024-12-01 00:00:00",
         "2024-12-31 00:00:00"
        ],
        [
         "12",
         "004a629f-f51c-4c9c-a766-91f214bb4513",
         "2025-04-01 00:00:00",
         "2025-03-01 00:00:00",
         "2025-03-31 00:00:00"
        ],
        [
         "13",
         "004b0095-9962-4959-9ce7-bf8b5b210a89",
         "2024-12-01 00:00:00",
         "2024-11-01 00:00:00",
         "2024-11-30 00:00:00"
        ],
        [
         "14",
         "004da991-a1fa-462d-b5fc-d904b6357722",
         "2025-07-01 00:00:00",
         "2025-06-01 00:00:00",
         "2025-06-30 00:00:00"
        ],
        [
         "15",
         "0050588f-3dd0-428b-9317-4942b5447412",
         "2025-05-01 00:00:00",
         "2025-04-01 00:00:00",
         "2025-04-30 00:00:00"
        ],
        [
         "16",
         "006507f6-12b8-4f7b-81b4-d8a9140efd07",
         "2025-03-01 00:00:00",
         "2025-02-01 00:00:00",
         "2025-02-28 00:00:00"
        ],
        [
         "17",
         "00652302-90b6-4f68-88f3-0ad2dd51004f",
         "2025-04-01 00:00:00",
         "2025-03-01 00:00:00",
         "2025-03-31 00:00:00"
        ],
        [
         "18",
         "006b6a55-2567-4f15-bb46-d666c4652a4a",
         "2025-07-01 00:00:00",
         "2025-06-01 00:00:00",
         "2025-06-30 00:00:00"
        ],
        [
         "19",
         "006b99f4-970a-42b0-9ce9-0db02401c812",
         "2025-05-01 00:00:00",
         "2025-04-01 00:00:00",
         "2025-04-30 00:00:00"
        ],
        [
         "20",
         "006c4783-90d2-45cb-955a-e98264b4ad02",
         "2025-02-01 00:00:00",
         "2025-01-01 00:00:00",
         "2025-01-31 00:00:00"
        ],
        [
         "21",
         "00719e80-633d-4f7a-b143-81576c4a36b7",
         "2025-04-01 00:00:00",
         "2025-03-01 00:00:00",
         "2025-03-31 00:00:00"
        ],
        [
         "22",
         "0079badd-99f7-4965-b938-363bb4312dd5",
         "2025-06-01 00:00:00",
         "2025-05-01 00:00:00",
         "2025-05-31 00:00:00"
        ],
        [
         "23",
         "007a8713-f693-46c3-9ac0-2e1bb6d4cf10",
         "2025-02-01 00:00:00",
         "2025-01-01 00:00:00",
         "2025-01-31 00:00:00"
        ],
        [
         "24",
         "007ac10e-7681-4c99-a910-2f71a3618ba1",
         "2025-03-01 00:00:00",
         "2025-02-01 00:00:00",
         "2025-02-28 00:00:00"
        ],
        [
         "25",
         "007e719d-a393-4f46-b7eb-845f4ecc519f",
         "2025-07-01 00:00:00",
         "2025-06-01 00:00:00",
         "2025-06-30 00:00:00"
        ],
        [
         "26",
         "0082d11b-0612-42f9-97c0-0f2bb472c1f8",
         "2025-07-01 00:00:00",
         "2025-06-01 00:00:00",
         "2025-06-30 00:00:00"
        ],
        [
         "27",
         "00867acb-d6bb-4601-9cc3-042abad08bca",
         "2024-09-01 00:00:00",
         "2024-08-01 00:00:00",
         "2024-08-31 00:00:00"
        ],
        [
         "28",
         "008c527f-3947-4945-a8b2-5ad14283e364",
         "2025-04-01 00:00:00",
         "2025-03-01 00:00:00",
         "2025-03-31 00:00:00"
        ],
        [
         "29",
         "008dda3d-d578-48c3-83f4-adbd6e868a62",
         "2025-07-01 00:00:00",
         "2025-06-01 00:00:00",
         "2025-06-30 00:00:00"
        ],
        [
         "30",
         "009132ce-b878-45aa-8f67-77e7476a915c",
         "2025-07-01 00:00:00",
         "2025-06-01 00:00:00",
         "2025-06-30 00:00:00"
        ],
        [
         "31",
         "0091be1e-2aea-4e41-a756-f3e6486fd93c",
         "2024-12-01 00:00:00",
         "2024-11-01 00:00:00",
         "2024-11-30 00:00:00"
        ],
        [
         "32",
         "00a18cf2-3afe-4b2e-8dab-dd456d5cf907",
         "2024-12-01 00:00:00",
         "2024-11-01 00:00:00",
         "2024-11-30 00:00:00"
        ],
        [
         "33",
         "00a1b869-6e4c-4f3e-acff-cade62254549",
         "2024-08-01 00:00:00",
         "2024-07-01 00:00:00",
         "2024-07-31 00:00:00"
        ],
        [
         "34",
         "00a9ac77-0780-4e52-bc3b-4063afd2c134",
         "2025-03-01 00:00:00",
         "2025-02-01 00:00:00",
         "2025-02-28 00:00:00"
        ],
        [
         "35",
         "00aad75e-a4ca-470f-8cd5-ddcf32007dbb",
         "2025-05-01 00:00:00",
         "2025-04-01 00:00:00",
         "2025-04-30 00:00:00"
        ],
        [
         "36",
         "00b02459-e847-443f-a78d-759dd746e724",
         "2025-05-01 00:00:00",
         "2025-04-01 00:00:00",
         "2025-04-30 00:00:00"
        ],
        [
         "37",
         "00b11bb1-5731-4944-9c33-8f7331bac955",
         "2024-11-01 00:00:00",
         "2024-10-01 00:00:00",
         "2024-10-31 00:00:00"
        ],
        [
         "38",
         "00bbc106-d793-4fb7-a2f5-b24f68c47c92",
         "2025-02-01 00:00:00",
         "2025-01-01 00:00:00",
         "2025-01-31 00:00:00"
        ],
        [
         "39",
         "00beb295-bf12-445a-84ea-f35257ac3694",
         "2024-12-01 00:00:00",
         "2024-11-01 00:00:00",
         "2024-11-30 00:00:00"
        ],
        [
         "40",
         "00c1e156-824d-4c47-a18b-76a9ab6d42e5",
         "2025-03-01 00:00:00",
         "2025-02-01 00:00:00",
         "2025-02-28 00:00:00"
        ],
        [
         "41",
         "00c4acc4-2954-4573-a9ea-fc416dec7950",
         "2025-07-01 00:00:00",
         "2025-06-01 00:00:00",
         "2025-06-30 00:00:00"
        ],
        [
         "42",
         "00c7c8b5-55c4-44ed-a826-b9b3461862f1",
         "2025-07-01 00:00:00",
         "2025-06-01 00:00:00",
         "2025-06-30 00:00:00"
        ],
        [
         "43",
         "00c9f495-df43-4d0e-88c3-744de463c3cc",
         "2025-07-01 00:00:00",
         "2025-06-01 00:00:00",
         "2025-06-30 00:00:00"
        ],
        [
         "44",
         "00d2f042-f61e-4935-aed4-be3cc9226c31",
         "2024-07-01 00:00:00",
         "2024-06-01 00:00:00",
         "2024-06-30 00:00:00"
        ],
        [
         "45",
         "00d5fe35-c036-428b-a3cc-3882c3d36d9b",
         "2024-12-01 00:00:00",
         "2024-11-01 00:00:00",
         "2024-11-30 00:00:00"
        ],
        [
         "46",
         "00d8aaf3-cfa4-4179-9a24-b864a916234a",
         "2025-01-01 00:00:00",
         "2024-12-01 00:00:00",
         "2024-12-31 00:00:00"
        ],
        [
         "47",
         "00dd875b-3f32-4dc4-afba-58373536510e",
         "2024-10-01 00:00:00",
         "2024-09-01 00:00:00",
         "2024-09-30 00:00:00"
        ],
        [
         "48",
         "00df0ec4-b095-425b-8b9f-a39553892820",
         "2024-09-01 00:00:00",
         "2024-08-01 00:00:00",
         "2024-08-31 00:00:00"
        ],
        [
         "49",
         "00e52aa8-5de8-4221-a533-84572794e9f0",
         "2025-07-01 00:00:00",
         "2025-06-01 00:00:00",
         "2025-06-30 00:00:00"
        ]
       ],
       "shape": {
        "columns": 4,
        "rows": 19649
       }
      },
      "text/html": [
       "<div>\n",
       "<style scoped>\n",
       "    .dataframe tbody tr th:only-of-type {\n",
       "        vertical-align: middle;\n",
       "    }\n",
       "\n",
       "    .dataframe tbody tr th {\n",
       "        vertical-align: top;\n",
       "    }\n",
       "\n",
       "    .dataframe thead th {\n",
       "        text-align: right;\n",
       "    }\n",
       "</style>\n",
       "<table border=\"1\" class=\"dataframe\">\n",
       "  <thead>\n",
       "    <tr style=\"text-align: right;\">\n",
       "      <th></th>\n",
       "      <th>user_id</th>\n",
       "      <th>first_expansion_month</th>\n",
       "      <th>pre_expansion_start</th>\n",
       "      <th>pre_expansion_end</th>\n",
       "    </tr>\n",
       "  </thead>\n",
       "  <tbody>\n",
       "    <tr>\n",
       "      <th>0</th>\n",
       "      <td>000f0003-fbcc-4375-a9d6-1d8c63dbdf05</td>\n",
       "      <td>2024-10-01</td>\n",
       "      <td>2024-09-01</td>\n",
       "      <td>2024-09-30</td>\n",
       "    </tr>\n",
       "    <tr>\n",
       "      <th>1</th>\n",
       "      <td>001152fb-e29a-4cf5-878c-901af2268ad0</td>\n",
       "      <td>2025-04-01</td>\n",
       "      <td>2025-03-01</td>\n",
       "      <td>2025-03-31</td>\n",
       "    </tr>\n",
       "    <tr>\n",
       "      <th>2</th>\n",
       "      <td>001281b3-e61d-45e0-8551-68da908a2edf</td>\n",
       "      <td>2024-05-01</td>\n",
       "      <td>2024-04-01</td>\n",
       "      <td>2024-04-30</td>\n",
       "    </tr>\n",
       "    <tr>\n",
       "      <th>3</th>\n",
       "      <td>0012a970-074a-4701-b157-207958ab299c</td>\n",
       "      <td>2025-04-01</td>\n",
       "      <td>2025-03-01</td>\n",
       "      <td>2025-03-31</td>\n",
       "    </tr>\n",
       "    <tr>\n",
       "      <th>4</th>\n",
       "      <td>001a825f-72d1-4b7f-a2f5-f14cb5bc0714</td>\n",
       "      <td>2024-12-01</td>\n",
       "      <td>2024-11-01</td>\n",
       "      <td>2024-11-30</td>\n",
       "    </tr>\n",
       "    <tr>\n",
       "      <th>...</th>\n",
       "      <td>...</td>\n",
       "      <td>...</td>\n",
       "      <td>...</td>\n",
       "      <td>...</td>\n",
       "    </tr>\n",
       "    <tr>\n",
       "      <th>19644</th>\n",
       "      <td>ffe21a37-d8b8-4cd4-8ef1-923223caa39a</td>\n",
       "      <td>2025-06-01</td>\n",
       "      <td>2025-05-01</td>\n",
       "      <td>2025-05-31</td>\n",
       "    </tr>\n",
       "    <tr>\n",
       "      <th>19645</th>\n",
       "      <td>ffe7a232-fe36-4fdf-9c5d-6c9af2b8d65f</td>\n",
       "      <td>2024-03-01</td>\n",
       "      <td>2024-02-01</td>\n",
       "      <td>2024-02-29</td>\n",
       "    </tr>\n",
       "    <tr>\n",
       "      <th>19646</th>\n",
       "      <td>ffeab75b-1fb0-4786-9a2c-678e15bdee61</td>\n",
       "      <td>2025-05-01</td>\n",
       "      <td>2025-04-01</td>\n",
       "      <td>2025-04-30</td>\n",
       "    </tr>\n",
       "    <tr>\n",
       "      <th>19647</th>\n",
       "      <td>fff871bd-392e-4287-95a2-19d85aaf8196</td>\n",
       "      <td>2025-05-01</td>\n",
       "      <td>2025-04-01</td>\n",
       "      <td>2025-04-30</td>\n",
       "    </tr>\n",
       "    <tr>\n",
       "      <th>19648</th>\n",
       "      <td>fff8e699-03db-42d2-aad8-cefaf815a92d</td>\n",
       "      <td>2025-01-01</td>\n",
       "      <td>2024-12-01</td>\n",
       "      <td>2024-12-31</td>\n",
       "    </tr>\n",
       "  </tbody>\n",
       "</table>\n",
       "<p>19649 rows × 4 columns</p>\n",
       "</div>"
      ],
      "text/plain": [
       "                                    user_id first_expansion_month  \\\n",
       "0      000f0003-fbcc-4375-a9d6-1d8c63dbdf05            2024-10-01   \n",
       "1      001152fb-e29a-4cf5-878c-901af2268ad0            2025-04-01   \n",
       "2      001281b3-e61d-45e0-8551-68da908a2edf            2024-05-01   \n",
       "3      0012a970-074a-4701-b157-207958ab299c            2025-04-01   \n",
       "4      001a825f-72d1-4b7f-a2f5-f14cb5bc0714            2024-12-01   \n",
       "...                                     ...                   ...   \n",
       "19644  ffe21a37-d8b8-4cd4-8ef1-923223caa39a            2025-06-01   \n",
       "19645  ffe7a232-fe36-4fdf-9c5d-6c9af2b8d65f            2024-03-01   \n",
       "19646  ffeab75b-1fb0-4786-9a2c-678e15bdee61            2025-05-01   \n",
       "19647  fff871bd-392e-4287-95a2-19d85aaf8196            2025-05-01   \n",
       "19648  fff8e699-03db-42d2-aad8-cefaf815a92d            2025-01-01   \n",
       "\n",
       "      pre_expansion_start pre_expansion_end  \n",
       "0              2024-09-01        2024-09-30  \n",
       "1              2025-03-01        2025-03-31  \n",
       "2              2024-04-01        2024-04-30  \n",
       "3              2025-03-01        2025-03-31  \n",
       "4              2024-11-01        2024-11-30  \n",
       "...                   ...               ...  \n",
       "19644          2025-05-01        2025-05-31  \n",
       "19645          2024-02-01        2024-02-29  \n",
       "19646          2025-04-01        2025-04-30  \n",
       "19647          2025-04-01        2025-04-30  \n",
       "19648          2024-12-01        2024-12-31  \n",
       "\n",
       "[19649 rows x 4 columns]"
      ]
     },
     "execution_count": 35,
     "metadata": {},
     "output_type": "execute_result"
    }
   ],
   "source": [
    "first_expansion_dates"
   ]
  },
  {
   "cell_type": "code",
   "execution_count": 44,
   "id": "69dd7a5c",
   "metadata": {},
   "outputs": [],
   "source": [
    "final_control_group['signup_date'] = pd.to_datetime(final_control_group['signup_date'])\n",
    "final_control_group['signup_month'] = final_control_group['signup_date'].dt.to_period('M')\n",
    "\n",
    "final_control_dates = final_control_group[['user_id', 'signup_date', 'signup_month']].copy()\n",
    "\n",
    "# Define observation window\n",
    "final_control_dates['observation_start'] = final_control_dates['signup_date']\n",
    "final_control_dates['observation_end']   = final_control_dates['signup_date'] + pd.Timedelta(days=60)\n"
   ]
  }
 ],
 "metadata": {
  "kernelspec": {
   "display_name": "dataenv",
   "language": "python",
   "name": "python3"
  },
  "language_info": {
   "codemirror_mode": {
    "name": "ipython",
    "version": 3
   },
   "file_extension": ".py",
   "mimetype": "text/x-python",
   "name": "python",
   "nbconvert_exporter": "python",
   "pygments_lexer": "ipython3",
   "version": "3.11.13"
  }
 },
 "nbformat": 4,
 "nbformat_minor": 5
}
