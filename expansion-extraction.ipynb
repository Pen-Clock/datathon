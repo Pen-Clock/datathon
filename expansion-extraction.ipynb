{
 "cells": [
  {
   "cell_type": "code",
   "execution_count": 65,
   "id": "3661bef0",
   "metadata": {},
   "outputs": [],
   "source": [
    "import pandas as pd \n",
    "import numpy as np \n",
    "import matplotlib.pyplot as plt\n",
    "import seaborn as sns "
   ]
  },
  {
   "cell_type": "code",
   "execution_count": 66,
   "id": "ec724c85",
   "metadata": {},
   "outputs": [],
   "source": [
    "billing = pd.read_csv(\"billing.csv\") \n",
    "events = pd.read_csv(\"events.csv\")\n",
    "sessions = pd.read_csv(\"sessions.csv\")\n",
    "users = pd.read_csv('users.csv')"
   ]
  },
  {
   "cell_type": "markdown",
   "id": "8048f7cb",
   "metadata": {},
   "source": [
    "Looking into expansion events group and non expansion group and testing out what are their behvaiour. Make a test and control group that we want to study"
   ]
  },
  {
   "cell_type": "code",
   "execution_count": 67,
   "id": "2a2f921b",
   "metadata": {},
   "outputs": [
    {
     "name": "stdout",
     "output_type": "stream",
     "text": [
      "69309\n"
     ]
    }
   ],
   "source": [
    "expand_users = users[(users['expansion_event'] == 1 )]\n",
    "# no_expand_users = users[(users['expansion_event'] == 0 )]\n",
    "print(len(expand_users))\n",
    "# print(len(no_expand_users))"
   ]
  },
  {
   "cell_type": "code",
   "execution_count": null,
   "id": "07dbc5d8",
   "metadata": {},
   "outputs": [],
   "source": [
    "# billing['month'] = pd.to_datetime(billing['month']).dt.to_period('M')\n",
    "# billing = billing.sort_values([\"user_id\", \"month\"])\n",
    "\n",
    "# # High-water mark + previous high\n",
    "# billing[\"max_seats_to_date\"] = billing.groupby(\"user_id\")[\"active_seats\"].cummax()\n",
    "# billing[\"prev_max_seats_to_date\"] = billing.groupby(\"user_id\")[\"max_seats_to_date\"].shift()\n",
    "\n",
    "# # True expansion month (first time seats exceed any prior max)\n",
    "# billing[\"true_expansion_month\"] = billing[\"active_seats\"] > billing[\"prev_max_seats_to_date\"]\n",
    "\n",
    "# # First expansion month per user (nullable if they never expand)\n",
    "# first_expansion = (\n",
    "#     billing.loc[billing[\"true_expansion_month\"]]\n",
    "#     .groupby(\"user_id\", as_index=False)[\"month\"].min()\n",
    "#     .rename(columns={\"month\": \"first_expansion_month\"})\n",
    "# )"
   ]
  },
  {
   "cell_type": "code",
   "execution_count": 78,
   "id": "88d8016b",
   "metadata": {},
   "outputs": [
    {
     "name": "stdout",
     "output_type": "stream",
     "text": [
      "Expansion group size: 69309\n",
      "Control group size: 69309\n"
     ]
    }
   ],
   "source": [
    "# Create control group by matching non-expansion users to expansion users on key user details\n",
    "from sklearn.neighbors import NearestNeighbors\n",
    "\n",
    "# Select features for matching\n",
    "match_cols = ['plan_tier', 'company_size', 'region', 'industry', 'acquisition_channel', 'is_enterprise']\n",
    "\n",
    "# Prepare expansion and non-expansion user data\n",
    "expand_users = users[users['expansion_event'] == 1].copy()\n",
    "no_expand_users = users[users['expansion_event'] == 0].copy()\n",
    "\n",
    "# One-hot encode categorical variables for matching\n",
    "expand_encoded = pd.get_dummies(expand_users[match_cols])\n",
    "no_expand_encoded = pd.get_dummies(no_expand_users[match_cols])\n",
    "# Align columns\n",
    "expand_encoded, no_expand_encoded = expand_encoded.align(no_expand_encoded, join='left', axis=1, fill_value=0)\n",
    "\n",
    "# Fit nearest neighbor matcher\n",
    "nn = NearestNeighbors(n_neighbors=1, metric='euclidean')\n",
    "nn.fit(no_expand_encoded)\n",
    "distances, indices = nn.kneighbors(expand_encoded)\n",
    "\n",
    "# Get matched control users\n",
    "matched_indices = indices.flatten()\n",
    "control_users = no_expand_users.iloc[matched_indices].copy()\n",
    "control_users['matched_expansion_user_id'] = expand_users['user_id'].values\n",
    "\n",
    "# Output the expansion and control groups for further analysis\n",
    "print(f\"Expansion group size: {len(expand_users)}\")\n",
    "print(f\"Control group size: {len(control_users)}\")\n",
    "\n"
   ]
  },
  {
   "cell_type": "markdown",
   "id": "c8991c9a",
   "metadata": {},
   "source": [
    "## Example Analysis: Compare Churn Rates Between Expansion and Control Groups\n",
    "Let's compare the 90-day churn rates between the expansion group and the matched control group to see if expansion is associated with retention."
   ]
  },
  {
   "cell_type": "code",
   "execution_count": 98,
   "id": "e41d1017",
   "metadata": {},
   "outputs": [
    {
     "name": "stdout",
     "output_type": "stream",
     "text": [
      "Expansion group 90-day churn rate: 25.10%\n",
      "Control group 90-day churn rate: 18.23%\n",
      "T-test p-value: 0.0000\n"
     ]
    }
   ],
   "source": [
    "# Compare 90-day churn rates between expansion and control groups\n",
    "expansion_churn_2 = expand_users['churned_90d'].mean()\n",
    "control_churn_2 = no_expand_users['churned_90d'].mean()\n",
    "\n",
    "print(f\"Expansion group 90-day churn rate: {expansion_churn_2:.2%}\")\n",
    "print(f\"Control group 90-day churn rate: {control_churn_2:.2%}\")\n",
    "\n",
    "# Optional: statistical test\n",
    "from scipy.stats import ttest_ind\n",
    "stat, pval = ttest_ind(expand_users['churned_90d'], no_expand_users['churned_90d'])\n",
    "print(f\"T-test p-value: {pval:.4f}\")\n"
   ]
  },
  {
   "cell_type": "code",
   "execution_count": 97,
   "id": "cdb0e2e7",
   "metadata": {},
   "outputs": [
    {
     "name": "stdout",
     "output_type": "stream",
     "text": [
      "Expansion group 90-day churn rate: 25.10%\n",
      "Control group 90-day churn rate: 25.48%\n",
      "T-test p-value: 0.1015\n"
     ]
    }
   ],
   "source": [
    "# Compare 90-day churn rates between expansion and control groups\n",
    "expansion_churn = expand_users['churned_90d'].mean()\n",
    "control_churn = control_users['churned_90d'].mean()\n",
    "\n",
    "print(f\"Expansion group 90-day churn rate: {expansion_churn:.2%}\")\n",
    "print(f\"Control group 90-day churn rate: {control_churn:.2%}\")\n",
    "\n",
    "# Optional: statistical test\n",
    "from scipy.stats import ttest_ind\n",
    "stat, pval = ttest_ind(expand_users['churned_90d'], control_users['churned_90d'])\n",
    "print(f\"T-test p-value: {pval:.4f}\")\n"
   ]
  },
  {
   "cell_type": "markdown",
   "id": "23db31e7",
   "metadata": {},
   "source": [
    "### Aggregate and Visualize Total Events per User (Matched Groups)\n",
    "Let's compare the distribution of total events per user between the expansion and matched control groups."
   ]
  },
  {
   "cell_type": "code",
   "execution_count": 114,
   "id": "edcf2d77",
   "metadata": {},
   "outputs": [
    {
     "name": "stdout",
     "output_type": "stream",
     "text": [
      "  plan_tier signup_cohort  n_exp  n_ctl  exp_avg_seats  ctl_avg_seats  \\\n",
      "0      free       2024-02   2772    332       7.704445      53.806894   \n",
      "1      free       2024-03   2882    353       7.286831      53.779870   \n",
      "2      free       2024-04   2890    385       7.538992      51.468506   \n",
      "3      free       2024-05   2900    430       7.285655      51.057364   \n",
      "4      free       2024-06   2717    385       6.764788      49.718367   \n",
      "\n",
      "   diff_avg_seats  exp_max_seats  ctl_max_seats  diff_max_seats  ...  \\\n",
      "0      -46.102449      10.480159      56.786145      -46.305986  ...   \n",
      "1      -46.493039       9.931298      56.677054      -46.745756  ...   \n",
      "2      -43.929514      10.101384      54.171429      -44.070044  ...   \n",
      "3      -43.771709       9.762069      53.753488      -43.991419  ...   \n",
      "4      -42.953580       9.085756      52.228571      -43.142815  ...   \n",
      "\n",
      "   diff_churned_30d  exp_churned_90d  ctl_churned_90d  diff_churned_90d  \\\n",
      "0          0.015486         0.328644         0.237952          0.090692   \n",
      "1          0.014674         0.328938         0.263456          0.065482   \n",
      "2          0.022882         0.320415         0.249351          0.071065   \n",
      "3          0.017113         0.317586         0.279070          0.038516   \n",
      "4          0.039350         0.329039         0.257143          0.071897   \n",
      "\n",
      "   exp_downgraded  ctl_downgraded  diff_downgraded  exp_is_enterprise  \\\n",
      "0        0.000361             0.0         0.000361                0.0   \n",
      "1        0.000347             0.0         0.000347                0.0   \n",
      "2        0.000346             0.0         0.000346                0.0   \n",
      "3        0.001379             0.0         0.001379                0.0   \n",
      "4        0.000736             0.0         0.000736                0.0   \n",
      "\n",
      "   ctl_is_enterprise  diff_is_enterprise  \n",
      "0                0.0                 0.0  \n",
      "1                0.0                 0.0  \n",
      "2                0.0                 0.0  \n",
      "3                0.0                 0.0  \n",
      "4                0.0                 0.0  \n",
      "\n",
      "[5 rows x 37 columns]\n",
      "SMD:\n",
      " avg_seats             -0.863011\n",
      "avg_tickets           -0.693281\n",
      "avg_mrr               -0.604281\n",
      "pct_months_discount   -0.205647\n",
      "pct_months_overdue     0.019555\n",
      "dtype: float64\n"
     ]
    }
   ],
   "source": [
    "import pandas as pd\n",
    "import numpy as np\n",
    "from sklearn.preprocessing import OneHotEncoder\n",
    "from sklearn.linear_model import LogisticRegression\n",
    "\n",
    "# ---- 1) Build per-user aggregates from billing (history-agnostic summaries)\n",
    "def build_user_aggregates(billing: pd.DataFrame) -> pd.DataFrame:\n",
    "    b = billing.copy()\n",
    "    b[\"month\"] = pd.to_datetime(b[\"month\"])\n",
    "    agg = b.sort_values([\"user_id\",\"month\"]).groupby(\"user_id\").agg(\n",
    "        months_observed=(\"month\", lambda s: s.dt.to_period(\"M\").nunique()),\n",
    "        first_month=(\"month\", \"min\"),\n",
    "        last_month=(\"month\", \"max\"),\n",
    "        avg_seats=(\"active_seats\", \"mean\"),\n",
    "        max_seats=(\"active_seats\", \"max\"),\n",
    "        avg_mrr=(\"mrr\", \"mean\"),\n",
    "        max_mrr=(\"mrr\", \"max\"),\n",
    "        pct_months_discount=(\"discount_applied\", \"mean\"),\n",
    "        pct_months_overdue=(\"invoices_overdue\", \"mean\"),\n",
    "        avg_tickets=(\"support_ticket_count\", \"mean\")\n",
    "    ).reset_index()\n",
    "    agg[\"signup_cohort\"] = agg[\"first_month\"].dt.to_period(\"M\").astype(str)\n",
    "    return agg\n",
    "\n",
    "# ---- 2) Merge user attributes (including expansion_event) + aggregates\n",
    "def assemble_user_frame(users: pd.DataFrame, billing: pd.DataFrame) -> pd.DataFrame:\n",
    "    ua = build_user_aggregates(billing)\n",
    "    df = users.merge(ua, on=\"user_id\", how=\"left\")\n",
    "    # clean booleans → ints for means\n",
    "    for c in [\"is_enterprise\",\"churned_30d\",\"churned_90d\",\"downgraded\",\"expansion_event\"]:\n",
    "        if c in df:\n",
    "            df[c] = df[c].astype(int)\n",
    "    return df\n",
    "\n",
    "# ---- 3) Stratified descriptive comparison (plan tier × signup cohort)\n",
    "def stratified_two_group_summary(df: pd.DataFrame) -> pd.DataFrame:\n",
    "    # choose metrics to compare\n",
    "    metrics = [\"avg_seats\",\"max_seats\",\"avg_mrr\",\"max_mrr\",\n",
    "               \"pct_months_discount\",\"pct_months_overdue\",\"avg_tickets\",\n",
    "               \"churned_30d\",\"churned_90d\",\"downgraded\",\"is_enterprise\"]\n",
    "    strata = [\"plan_tier\", \"signup_cohort\"]\n",
    "    out = []\n",
    "    for keys, g in df.groupby(strata):\n",
    "        if g[\"expansion_event\"].nunique() < 2:\n",
    "            continue\n",
    "        exp = g[g[\"expansion_event\"]==1]\n",
    "        ctl = g[g[\"expansion_event\"]==0]\n",
    "        row = dict(zip(strata, keys))\n",
    "        row[\"n_exp\"] = len(exp); row[\"n_ctl\"] = len(ctl)\n",
    "        for m in metrics:\n",
    "            row[f\"exp_{m}\"] = exp[m].mean()\n",
    "            row[f\"ctl_{m}\"] = ctl[m].mean()\n",
    "            row[f\"diff_{m}\"] = row[f\"exp_{m}\"] - row[f\"ctl_{m}\"]\n",
    "        out.append(row)\n",
    "    return pd.DataFrame(out).sort_values(strata + [\"n_exp\"], ascending=[True, True, False])\n",
    "\n",
    "# ---- 4) (Optional) Standardized mean differences (SMD) to flag imbalance\n",
    "def standardized_diffs(df: pd.DataFrame, cols) -> pd.Series:\n",
    "    a = df[df[\"expansion_event\"]==1][cols].astype(float)\n",
    "    b = df[df[\"expansion_event\"]==0][cols].astype(float)\n",
    "    mu_a, mu_b = a.mean(), b.mean()\n",
    "    s2 = (a.var(ddof=1) + b.var(ddof=1)) / 2.0\n",
    "    smd = (mu_a - mu_b) / np.sqrt(s2.replace(0, np.nan))\n",
    "    return smd\n",
    "\n",
    "\n",
    "ux = assemble_user_frame(users, billing)\n",
    "summary = stratified_two_group_summary(ux)\n",
    "print(summary.head())\n",
    "smd = standardized_diffs(ux, [\"avg_seats\",\"avg_mrr\",\"avg_tickets\",\"pct_months_discount\",\"pct_months_overdue\"])\n",
    "print(\"SMD:\\n\", smd.sort_values(key=np.abs, ascending=False))\n"
   ]
  },
  {
   "cell_type": "code",
   "execution_count": 115,
   "id": "e56eca4c",
   "metadata": {},
   "outputs": [
    {
     "data": {
      "application/vnd.microsoft.datawrangler.viewer.v0+json": {
       "columns": [
        {
         "name": "index",
         "rawType": "object",
         "type": "string"
        },
        {
         "name": "0",
         "rawType": "float64",
         "type": "float"
        }
       ],
       "ref": "c4acb767-0e6f-48bf-a636-79d506028ed0",
       "rows": [
        [
         "avg_seats",
         "-0.8630107994837342"
        ],
        [
         "avg_mrr",
         "-0.604281219149233"
        ],
        [
         "avg_tickets",
         "-0.6932807209928061"
        ],
        [
         "pct_months_discount",
         "-0.20564682437307102"
        ],
        [
         "pct_months_overdue",
         "0.019554530995671584"
        ]
       ],
       "shape": {
        "columns": 1,
        "rows": 5
       }
      },
      "text/plain": [
       "avg_seats             -0.863011\n",
       "avg_mrr               -0.604281\n",
       "avg_tickets           -0.693281\n",
       "pct_months_discount   -0.205647\n",
       "pct_months_overdue     0.019555\n",
       "dtype: float64"
      ]
     },
     "execution_count": 115,
     "metadata": {},
     "output_type": "execute_result"
    }
   ],
   "source": [
    "smd"
   ]
  },
  {
   "cell_type": "code",
   "execution_count": 116,
   "id": "77f03cc8",
   "metadata": {},
   "outputs": [
    {
     "data": {
      "application/vnd.microsoft.datawrangler.viewer.v0+json": {
       "columns": [
        {
         "name": "user_id",
         "rawType": "object",
         "type": "string"
        },
        {
         "name": "jira_board",
         "rawType": "int64",
         "type": "integer"
        },
        {
         "name": "jira_automation",
         "rawType": "int64",
         "type": "integer"
        },
        {
         "name": "team_invite",
         "rawType": "int64",
         "type": "integer"
        },
        {
         "name": "bitbucket_integration",
         "rawType": "int64",
         "type": "integer"
        },
        {
         "name": "confluence_page",
         "rawType": "int64",
         "type": "integer"
        },
        {
         "name": "confluence_ai_assist",
         "rawType": "int64",
         "type": "integer"
        },
        {
         "name": "trello_export_csv",
         "rawType": "int64",
         "type": "integer"
        },
        {
         "name": "feature_adoption_count",
         "rawType": "int64",
         "type": "integer"
        }
       ],
       "ref": "6e5b1d9c-1c27-41c8-b5b0-3206665ea8d5",
       "rows": [
        [
         "0000093e-7258-43c0-b212-ea7212795ddf",
         "1",
         "0",
         "0",
         "0",
         "0",
         "0",
         "0",
         "1"
        ],
        [
         "0006fdbd-c35d-4c0d-a948-e8ee10f279d5",
         "0",
         "0",
         "0",
         "0",
         "0",
         "1",
         "0",
         "1"
        ],
        [
         "0007ee13-0c60-4865-9464-914b2df654df",
         "1",
         "1",
         "1",
         "0",
         "0",
         "0",
         "0",
         "3"
        ],
        [
         "000836d5-0777-4310-a8a5-5c857d2ea5e5",
         "0",
         "0",
         "0",
         "0",
         "1",
         "0",
         "0",
         "1"
        ],
        [
         "0008a782-5378-45a1-b332-10c73c4296ff",
         "0",
         "0",
         "1",
         "0",
         "1",
         "1",
         "1",
         "4"
        ]
       ],
       "shape": {
        "columns": 8,
        "rows": 5
       }
      },
      "text/html": [
       "<div>\n",
       "<style scoped>\n",
       "    .dataframe tbody tr th:only-of-type {\n",
       "        vertical-align: middle;\n",
       "    }\n",
       "\n",
       "    .dataframe tbody tr th {\n",
       "        vertical-align: top;\n",
       "    }\n",
       "\n",
       "    .dataframe thead th {\n",
       "        text-align: right;\n",
       "    }\n",
       "</style>\n",
       "<table border=\"1\" class=\"dataframe\">\n",
       "  <thead>\n",
       "    <tr style=\"text-align: right;\">\n",
       "      <th>feature_name</th>\n",
       "      <th>jira_board</th>\n",
       "      <th>jira_automation</th>\n",
       "      <th>team_invite</th>\n",
       "      <th>bitbucket_integration</th>\n",
       "      <th>confluence_page</th>\n",
       "      <th>confluence_ai_assist</th>\n",
       "      <th>trello_export_csv</th>\n",
       "      <th>feature_adoption_count</th>\n",
       "    </tr>\n",
       "    <tr>\n",
       "      <th>user_id</th>\n",
       "      <th></th>\n",
       "      <th></th>\n",
       "      <th></th>\n",
       "      <th></th>\n",
       "      <th></th>\n",
       "      <th></th>\n",
       "      <th></th>\n",
       "      <th></th>\n",
       "    </tr>\n",
       "  </thead>\n",
       "  <tbody>\n",
       "    <tr>\n",
       "      <th>0000093e-7258-43c0-b212-ea7212795ddf</th>\n",
       "      <td>1</td>\n",
       "      <td>0</td>\n",
       "      <td>0</td>\n",
       "      <td>0</td>\n",
       "      <td>0</td>\n",
       "      <td>0</td>\n",
       "      <td>0</td>\n",
       "      <td>1</td>\n",
       "    </tr>\n",
       "    <tr>\n",
       "      <th>0006fdbd-c35d-4c0d-a948-e8ee10f279d5</th>\n",
       "      <td>0</td>\n",
       "      <td>0</td>\n",
       "      <td>0</td>\n",
       "      <td>0</td>\n",
       "      <td>0</td>\n",
       "      <td>1</td>\n",
       "      <td>0</td>\n",
       "      <td>1</td>\n",
       "    </tr>\n",
       "    <tr>\n",
       "      <th>0007ee13-0c60-4865-9464-914b2df654df</th>\n",
       "      <td>1</td>\n",
       "      <td>1</td>\n",
       "      <td>1</td>\n",
       "      <td>0</td>\n",
       "      <td>0</td>\n",
       "      <td>0</td>\n",
       "      <td>0</td>\n",
       "      <td>3</td>\n",
       "    </tr>\n",
       "    <tr>\n",
       "      <th>000836d5-0777-4310-a8a5-5c857d2ea5e5</th>\n",
       "      <td>0</td>\n",
       "      <td>0</td>\n",
       "      <td>0</td>\n",
       "      <td>0</td>\n",
       "      <td>1</td>\n",
       "      <td>0</td>\n",
       "      <td>0</td>\n",
       "      <td>1</td>\n",
       "    </tr>\n",
       "    <tr>\n",
       "      <th>0008a782-5378-45a1-b332-10c73c4296ff</th>\n",
       "      <td>0</td>\n",
       "      <td>0</td>\n",
       "      <td>1</td>\n",
       "      <td>0</td>\n",
       "      <td>1</td>\n",
       "      <td>1</td>\n",
       "      <td>1</td>\n",
       "      <td>4</td>\n",
       "    </tr>\n",
       "  </tbody>\n",
       "</table>\n",
       "</div>"
      ],
      "text/plain": [
       "feature_name                          jira_board  jira_automation  \\\n",
       "user_id                                                             \n",
       "0000093e-7258-43c0-b212-ea7212795ddf           1                0   \n",
       "0006fdbd-c35d-4c0d-a948-e8ee10f279d5           0                0   \n",
       "0007ee13-0c60-4865-9464-914b2df654df           1                1   \n",
       "000836d5-0777-4310-a8a5-5c857d2ea5e5           0                0   \n",
       "0008a782-5378-45a1-b332-10c73c4296ff           0                0   \n",
       "\n",
       "feature_name                          team_invite  bitbucket_integration  \\\n",
       "user_id                                                                    \n",
       "0000093e-7258-43c0-b212-ea7212795ddf            0                      0   \n",
       "0006fdbd-c35d-4c0d-a948-e8ee10f279d5            0                      0   \n",
       "0007ee13-0c60-4865-9464-914b2df654df            1                      0   \n",
       "000836d5-0777-4310-a8a5-5c857d2ea5e5            0                      0   \n",
       "0008a782-5378-45a1-b332-10c73c4296ff            1                      0   \n",
       "\n",
       "feature_name                          confluence_page  confluence_ai_assist  \\\n",
       "user_id                                                                       \n",
       "0000093e-7258-43c0-b212-ea7212795ddf                0                     0   \n",
       "0006fdbd-c35d-4c0d-a948-e8ee10f279d5                0                     1   \n",
       "0007ee13-0c60-4865-9464-914b2df654df                0                     0   \n",
       "000836d5-0777-4310-a8a5-5c857d2ea5e5                1                     0   \n",
       "0008a782-5378-45a1-b332-10c73c4296ff                1                     1   \n",
       "\n",
       "feature_name                          trello_export_csv  \\\n",
       "user_id                                                   \n",
       "0000093e-7258-43c0-b212-ea7212795ddf                  0   \n",
       "0006fdbd-c35d-4c0d-a948-e8ee10f279d5                  0   \n",
       "0007ee13-0c60-4865-9464-914b2df654df                  0   \n",
       "000836d5-0777-4310-a8a5-5c857d2ea5e5                  0   \n",
       "0008a782-5378-45a1-b332-10c73c4296ff                  1   \n",
       "\n",
       "feature_name                          feature_adoption_count  \n",
       "user_id                                                       \n",
       "0000093e-7258-43c0-b212-ea7212795ddf                       1  \n",
       "0006fdbd-c35d-4c0d-a948-e8ee10f279d5                       1  \n",
       "0007ee13-0c60-4865-9464-914b2df654df                       3  \n",
       "000836d5-0777-4310-a8a5-5c857d2ea5e5                       1  \n",
       "0008a782-5378-45a1-b332-10c73c4296ff                       4  "
      ]
     },
     "execution_count": 116,
     "metadata": {},
     "output_type": "execute_result"
    }
   ],
   "source": []
  }
 ],
 "metadata": {
  "kernelspec": {
   "display_name": "dataenv",
   "language": "python",
   "name": "python3"
  },
  "language_info": {
   "codemirror_mode": {
    "name": "ipython",
    "version": 3
   },
   "file_extension": ".py",
   "mimetype": "text/x-python",
   "name": "python",
   "nbconvert_exporter": "python",
   "pygments_lexer": "ipython3",
   "version": "3.11.13"
  }
 },
 "nbformat": 4,
 "nbformat_minor": 5
}
